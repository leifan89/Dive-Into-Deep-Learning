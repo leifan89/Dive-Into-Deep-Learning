{
 "cells": [
  {
   "cell_type": "code",
   "execution_count": 1,
   "metadata": {},
   "outputs": [],
   "source": [
    "import torch\n",
    "from torch import nn"
   ]
  },
  {
   "cell_type": "code",
   "execution_count": 21,
   "metadata": {},
   "outputs": [],
   "source": [
    "def comp_conv2d(conv2d, X):\n",
    "    X = X.reshape((1, 1) + X.shape)\n",
    "    print(X)\n",
    "    Y = conv2d(X)\n",
    "    print(Y)\n",
    "    return Y.reshape(Y.shape[2:])"
   ]
  },
  {
   "cell_type": "code",
   "execution_count": 22,
   "metadata": {},
   "outputs": [
    {
     "name": "stdout",
     "output_type": "stream",
     "text": [
      "tensor([[[[0.4263, 0.3889, 0.8767, 0.4556, 0.2188, 0.7242, 0.3770, 0.8711],\n",
      "          [0.9318, 0.7125, 0.9421, 0.5811, 0.6112, 0.5054, 0.2171, 0.3215],\n",
      "          [0.4628, 0.9500, 0.0395, 0.5136, 0.7120, 0.5767, 0.6579, 0.3810],\n",
      "          [0.9756, 0.3780, 0.4808, 0.1347, 0.7788, 0.9721, 0.1914, 0.1254],\n",
      "          [0.4933, 0.3446, 0.2991, 0.5000, 0.0296, 0.6177, 0.1602, 0.5841],\n",
      "          [0.8027, 0.7454, 0.9666, 0.9699, 0.1665, 0.6488, 0.6341, 0.8167],\n",
      "          [0.3911, 0.5591, 0.1638, 0.9231, 0.8838, 0.1121, 0.8418, 0.4971],\n",
      "          [0.7938, 0.9993, 0.6483, 0.4672, 0.8688, 0.5060, 0.0938, 0.1016]]]])\n",
      "tensor([[[[-0.0104,  0.1027,  0.1282,  0.1427,  0.2137,  0.2642,  0.4944,\n",
      "            0.3629],\n",
      "          [ 0.2501,  0.4472,  0.6045,  0.4876,  0.1415,  0.2206,  0.0874,\n",
      "            0.4043],\n",
      "          [ 0.3077,  0.2180,  0.5240,  0.3112,  0.2297,  0.3982,  0.4089,\n",
      "            0.4725],\n",
      "          [ 0.2119,  0.6603,  0.1484,  0.3814,  0.5315,  0.4605,  0.3499,\n",
      "            0.2607],\n",
      "          [ 0.1708, -0.0035,  0.0233, -0.0986,  0.1879,  0.2862,  0.1795,\n",
      "            0.1407],\n",
      "          [ 0.3843,  0.6218,  0.4699,  0.2915,  0.1956,  0.3343,  0.2996,\n",
      "            0.4467],\n",
      "          [ 0.0274, -0.0235,  0.3151,  0.5205,  0.1681,  0.4548,  0.4677,\n",
      "            0.6914],\n",
      "          [ 0.6339,  0.8781,  0.5609,  0.7372,  0.8719,  0.4296,  0.4852,\n",
      "            0.4417]]]], grad_fn=<MkldnnConvolutionBackward>)\n"
     ]
    },
    {
     "data": {
      "text/plain": [
       "tensor([[-0.0104,  0.1027,  0.1282,  0.1427,  0.2137,  0.2642,  0.4944,  0.3629],\n",
       "        [ 0.2501,  0.4472,  0.6045,  0.4876,  0.1415,  0.2206,  0.0874,  0.4043],\n",
       "        [ 0.3077,  0.2180,  0.5240,  0.3112,  0.2297,  0.3982,  0.4089,  0.4725],\n",
       "        [ 0.2119,  0.6603,  0.1484,  0.3814,  0.5315,  0.4605,  0.3499,  0.2607],\n",
       "        [ 0.1708, -0.0035,  0.0233, -0.0986,  0.1879,  0.2862,  0.1795,  0.1407],\n",
       "        [ 0.3843,  0.6218,  0.4699,  0.2915,  0.1956,  0.3343,  0.2996,  0.4467],\n",
       "        [ 0.0274, -0.0235,  0.3151,  0.5205,  0.1681,  0.4548,  0.4677,  0.6914],\n",
       "        [ 0.6339,  0.8781,  0.5609,  0.7372,  0.8719,  0.4296,  0.4852,  0.4417]],\n",
       "       grad_fn=<ViewBackward>)"
      ]
     },
     "execution_count": 22,
     "metadata": {},
     "output_type": "execute_result"
    }
   ],
   "source": [
    "conv2d = nn.Conv2d(1, 1, kernel_size=3, padding=1)\n",
    "X = torch.rand(size=(8, 8))\n",
    "comp_conv2d(conv2d, X)"
   ]
  },
  {
   "cell_type": "code",
   "execution_count": 13,
   "metadata": {},
   "outputs": [
    {
     "data": {
      "text/plain": [
       "tensor([[-0.8093, -0.6196, -0.5206, -0.5429, -0.3073, -0.4720, -0.5668, -0.3862],\n",
       "        [-0.8455, -0.7148, -0.7691, -0.8754, -0.9699, -0.5311, -0.3416, -0.6177],\n",
       "        [-0.9616, -0.6727, -0.4315, -0.4232, -0.5068, -0.8727, -0.7479, -0.5313],\n",
       "        [-0.7543, -0.9573, -0.7859, -0.5792, -0.7648, -0.3633, -0.4097, -0.6053],\n",
       "        [-0.8384, -0.7362, -0.5717, -0.3663, -0.7752, -0.9703, -0.7713, -0.4742],\n",
       "        [-0.4540, -1.0063, -1.0378, -0.4816, -0.2111, -0.5759, -0.8681, -0.5625],\n",
       "        [-0.7415, -0.5116, -0.8294, -0.6784, -0.5466, -0.4750, -1.0117, -0.3558],\n",
       "        [-0.5307, -0.5133, -0.7287, -0.4428, -0.2196, -0.4479, -0.5457, -0.5370]],\n",
       "       grad_fn=<ViewBackward>)"
      ]
     },
     "execution_count": 13,
     "metadata": {},
     "output_type": "execute_result"
    }
   ],
   "source": [
    "conv2d = nn.Conv2d(1, 1, kernel_size=(5, 3), padding=(2, 1))\n",
    "comp_conv2d(conv2d, X)"
   ]
  },
  {
   "cell_type": "code",
   "execution_count": 14,
   "metadata": {},
   "outputs": [
    {
     "data": {
      "text/plain": [
       "tensor([[0.3783, 0.4166, 0.1723, 0.1398],\n",
       "        [0.4464, 0.3906, 0.1185, 0.4355],\n",
       "        [0.5383, 0.2088, 0.5044, 0.4043],\n",
       "        [0.1756, 0.7486, 0.1324, 0.7250]], grad_fn=<ViewBackward>)"
      ]
     },
     "execution_count": 14,
     "metadata": {},
     "output_type": "execute_result"
    }
   ],
   "source": [
    "conv2d = nn.Conv2d(1, 1, kernel_size=3, padding=1, stride=2)\n",
    "comp_conv2d(conv2d, X)"
   ]
  },
  {
   "cell_type": "code",
   "execution_count": 25,
   "metadata": {},
   "outputs": [
    {
     "name": "stdout",
     "output_type": "stream",
     "text": [
      "tensor([[[[1., 1., 1., 1., 1., 1., 1., 1.],\n",
      "          [1., 1., 1., 1., 1., 1., 1., 1.],\n",
      "          [1., 1., 1., 1., 1., 1., 1., 1.],\n",
      "          [1., 1., 1., 1., 1., 1., 1., 1.],\n",
      "          [1., 1., 1., 1., 1., 1., 1., 1.],\n",
      "          [1., 1., 1., 1., 1., 1., 1., 1.],\n",
      "          [1., 1., 1., 1., 1., 1., 1., 1.],\n",
      "          [1., 1., 1., 1., 1., 1., 1., 1.]]]])\n",
      "tensor([[[[-0.4601, -0.0743],\n",
      "          [-0.4601, -0.0743]]]], grad_fn=<MkldnnConvolutionBackward>)\n"
     ]
    },
    {
     "data": {
      "text/plain": [
       "tensor([[-0.4601, -0.0743],\n",
       "        [-0.4601, -0.0743]], grad_fn=<ViewBackward>)"
      ]
     },
     "execution_count": 25,
     "metadata": {},
     "output_type": "execute_result"
    }
   ],
   "source": [
    "conv2d = nn.Conv2d(1, 1, kernel_size=(3, 5), padding=(0, 1), stride=(3, 4))\n",
    "comp_conv2d(conv2d, X)"
   ]
  },
  {
   "cell_type": "code",
   "execution_count": 16,
   "metadata": {},
   "outputs": [
    {
     "data": {
      "text/plain": [
       "Conv2d(1, 1, kernel_size=(3, 5), stride=(3, 4), padding=(0, 1))"
      ]
     },
     "execution_count": 16,
     "metadata": {},
     "output_type": "execute_result"
    }
   ],
   "source": [
    "conv2d"
   ]
  },
  {
   "cell_type": "code",
   "execution_count": 23,
   "metadata": {},
   "outputs": [],
   "source": [
    "X = torch.ones(size=(8, 8))"
   ]
  },
  {
   "cell_type": "code",
   "execution_count": 26,
   "metadata": {},
   "outputs": [
    {
     "name": "stdout",
     "output_type": "stream",
     "text": [
      "tensor([[[[1., 1., 1., 1., 1., 1., 1., 1.],\n",
      "          [1., 1., 1., 1., 1., 1., 1., 1.],\n",
      "          [1., 1., 1., 1., 1., 1., 1., 1.],\n",
      "          [1., 1., 1., 1., 1., 1., 1., 1.],\n",
      "          [1., 1., 1., 1., 1., 1., 1., 1.],\n",
      "          [1., 1., 1., 1., 1., 1., 1., 1.],\n",
      "          [1., 1., 1., 1., 1., 1., 1., 1.],\n",
      "          [1., 1., 1., 1., 1., 1., 1., 1.]]]])\n",
      "tensor([[[[-0.4601, -0.0743],\n",
      "          [-0.4601, -0.0743]]]], grad_fn=<MkldnnConvolutionBackward>)\n"
     ]
    },
    {
     "data": {
      "text/plain": [
       "tensor([[-0.4601, -0.0743],\n",
       "        [-0.4601, -0.0743]], grad_fn=<ViewBackward>)"
      ]
     },
     "execution_count": 26,
     "metadata": {},
     "output_type": "execute_result"
    }
   ],
   "source": [
    "comp_conv2d(conv2d, X)"
   ]
  },
  {
   "cell_type": "code",
   "execution_count": null,
   "metadata": {},
   "outputs": [],
   "source": []
  }
 ],
 "metadata": {
  "kernelspec": {
   "display_name": "Python 3",
   "language": "python",
   "name": "python3"
  },
  "language_info": {
   "codemirror_mode": {
    "name": "ipython",
    "version": 3
   },
   "file_extension": ".py",
   "mimetype": "text/x-python",
   "name": "python",
   "nbconvert_exporter": "python",
   "pygments_lexer": "ipython3",
   "version": "3.8.5"
  }
 },
 "nbformat": 4,
 "nbformat_minor": 4
}
