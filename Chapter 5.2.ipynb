{
 "cells": [
  {
   "cell_type": "code",
   "execution_count": 1,
   "metadata": {},
   "outputs": [],
   "source": [
    "import torch\n",
    "from torch import nn"
   ]
  },
  {
   "cell_type": "code",
   "execution_count": 3,
   "metadata": {},
   "outputs": [],
   "source": [
    "net = nn.Sequential(nn.Linear(4, 8), nn.ReLU(), nn.Linear(8, 1))\n",
    "X = torch.rand(size=(2, 4))"
   ]
  },
  {
   "cell_type": "code",
   "execution_count": 4,
   "metadata": {},
   "outputs": [
    {
     "data": {
      "text/plain": [
       "tensor([[0.5362, 0.6675, 0.6359, 0.4147],\n",
       "        [0.8710, 0.0728, 0.2609, 0.7490]])"
      ]
     },
     "execution_count": 4,
     "metadata": {},
     "output_type": "execute_result"
    }
   ],
   "source": [
    "X"
   ]
  },
  {
   "cell_type": "code",
   "execution_count": 5,
   "metadata": {},
   "outputs": [
    {
     "data": {
      "text/plain": [
       "tensor([[-0.1695],\n",
       "        [-0.2550]], grad_fn=<AddmmBackward>)"
      ]
     },
     "execution_count": 5,
     "metadata": {},
     "output_type": "execute_result"
    }
   ],
   "source": [
    "net(X)"
   ]
  },
  {
   "cell_type": "code",
   "execution_count": 6,
   "metadata": {},
   "outputs": [
    {
     "name": "stdout",
     "output_type": "stream",
     "text": [
      "OrderedDict([('weight', tensor([[ 0.0280,  0.1599,  0.3015, -0.2890,  0.0346, -0.2274, -0.1465,  0.1489]])), ('bias', tensor([-0.3451]))])\n"
     ]
    }
   ],
   "source": [
    "print(net[2].state_dict())"
   ]
  },
  {
   "cell_type": "code",
   "execution_count": 8,
   "metadata": {},
   "outputs": [
    {
     "name": "stdout",
     "output_type": "stream",
     "text": [
      "OrderedDict([('weight', tensor([[-0.0229,  0.3560, -0.0398, -0.2329],\n",
      "        [ 0.4544, -0.0760, -0.3926,  0.1075],\n",
      "        [ 0.3718,  0.4046, -0.1221, -0.4719],\n",
      "        [ 0.3979, -0.3642,  0.0400, -0.2827],\n",
      "        [ 0.0929,  0.2155, -0.1533,  0.0279],\n",
      "        [-0.1972, -0.3355, -0.0970, -0.2790],\n",
      "        [ 0.4034, -0.3808, -0.1592, -0.2471],\n",
      "        [ 0.0919, -0.3958,  0.4377, -0.0621]])), ('bias', tensor([ 0.0146, -0.2239,  0.3753, -0.2280, -0.3303, -0.2759,  0.1523, -0.2200]))])\n"
     ]
    }
   ],
   "source": [
    "print(net[0].state_dict())"
   ]
  },
  {
   "cell_type": "code",
   "execution_count": 11,
   "metadata": {},
   "outputs": [
    {
     "name": "stdout",
     "output_type": "stream",
     "text": [
      "<class 'torch.nn.parameter.Parameter'>\n",
      "Parameter containing:\n",
      "tensor([-0.3451], requires_grad=True)\n",
      "tensor([-0.3451])\n"
     ]
    }
   ],
   "source": [
    "print(type(net[2].bias))\n",
    "print(net[2].bias)\n",
    "print(net[2].bias.data)"
   ]
  },
  {
   "cell_type": "code",
   "execution_count": 12,
   "metadata": {},
   "outputs": [
    {
     "data": {
      "text/plain": [
       "True"
      ]
     },
     "execution_count": 12,
     "metadata": {},
     "output_type": "execute_result"
    }
   ],
   "source": [
    "net[2].weight.grad == None"
   ]
  },
  {
   "cell_type": "code",
   "execution_count": 13,
   "metadata": {},
   "outputs": [
    {
     "name": "stdout",
     "output_type": "stream",
     "text": [
      "('weight', torch.Size([8, 4])) ('bias', torch.Size([8]))\n"
     ]
    }
   ],
   "source": [
    "print(*[(name, param.shape) for name, param in net[0].named_parameters()])"
   ]
  },
  {
   "cell_type": "code",
   "execution_count": 14,
   "metadata": {},
   "outputs": [
    {
     "name": "stdout",
     "output_type": "stream",
     "text": [
      "('0.weight', torch.Size([8, 4])) ('0.bias', torch.Size([8])) ('2.weight', torch.Size([1, 8])) ('2.bias', torch.Size([1]))\n"
     ]
    }
   ],
   "source": [
    "print(*[(name, param.shape) for name, param in net.named_parameters()])"
   ]
  },
  {
   "cell_type": "code",
   "execution_count": 15,
   "metadata": {},
   "outputs": [
    {
     "data": {
      "text/plain": [
       "tensor([-0.3451])"
      ]
     },
     "execution_count": 15,
     "metadata": {},
     "output_type": "execute_result"
    }
   ],
   "source": [
    "net.state_dict()['2.bias'].data"
   ]
  },
  {
   "cell_type": "code",
   "execution_count": 16,
   "metadata": {},
   "outputs": [],
   "source": [
    "def block1():\n",
    "    return nn.Sequential(nn.Linear(4, 8), nn.ReLU(), nn.Linear(8,4), nn.ReLU())\n",
    "\n",
    "def block2():\n",
    "    net = nn.Sequential()\n",
    "    for i in range(4):\n",
    "        net.add_module(f'block {i}', block1())\n",
    "    return net"
   ]
  },
  {
   "cell_type": "code",
   "execution_count": 17,
   "metadata": {},
   "outputs": [],
   "source": [
    "rgnet = nn.Sequential(block2(), nn.Linear(4, 1))"
   ]
  },
  {
   "cell_type": "code",
   "execution_count": 18,
   "metadata": {},
   "outputs": [
    {
     "data": {
      "text/plain": [
       "OrderedDict([('0.block 0.0.weight',\n",
       "              tensor([[ 0.1695, -0.1930,  0.3745, -0.0270],\n",
       "                      [-0.4655,  0.2678, -0.0999,  0.3553],\n",
       "                      [ 0.1100, -0.0027,  0.3710, -0.0774],\n",
       "                      [-0.2249,  0.1939, -0.2567, -0.4822],\n",
       "                      [-0.1197, -0.4308,  0.4424,  0.1172],\n",
       "                      [ 0.3740, -0.0036, -0.4100, -0.2992],\n",
       "                      [-0.3497, -0.0665, -0.1358,  0.2861],\n",
       "                      [-0.2603,  0.2789,  0.1813, -0.4825]])),\n",
       "             ('0.block 0.0.bias',\n",
       "              tensor([ 0.2771,  0.4359,  0.3635,  0.3965, -0.3362, -0.0587,  0.2717,  0.2688])),\n",
       "             ('0.block 0.2.weight',\n",
       "              tensor([[-0.1798,  0.0150,  0.1819,  0.0305, -0.0918, -0.1879,  0.1521, -0.1230],\n",
       "                      [-0.1897, -0.1221, -0.0811, -0.0496, -0.1819, -0.3209, -0.0616, -0.1625],\n",
       "                      [ 0.1498, -0.0541, -0.0096,  0.2542, -0.2662,  0.3211,  0.0981,  0.1223],\n",
       "                      [ 0.3001, -0.2028, -0.3085,  0.0221, -0.2651,  0.2680, -0.2169, -0.1873]])),\n",
       "             ('0.block 0.2.bias',\n",
       "              tensor([ 0.2083, -0.2181,  0.1966, -0.1848])),\n",
       "             ('0.block 1.0.weight',\n",
       "              tensor([[ 0.4620, -0.4926,  0.3057,  0.2395],\n",
       "                      [-0.2905, -0.4450,  0.2304, -0.2355],\n",
       "                      [-0.3583,  0.1292,  0.3381,  0.0619],\n",
       "                      [ 0.3883,  0.4472, -0.4166, -0.2561],\n",
       "                      [ 0.1182, -0.3403, -0.4046, -0.0962],\n",
       "                      [ 0.2852,  0.1169, -0.4550,  0.1417],\n",
       "                      [-0.1107,  0.0832, -0.3226, -0.2144],\n",
       "                      [ 0.4668, -0.0325, -0.0418, -0.0200]])),\n",
       "             ('0.block 1.0.bias',\n",
       "              tensor([-0.4760, -0.3020,  0.2361, -0.2255, -0.4179,  0.3804,  0.1959,  0.3445])),\n",
       "             ('0.block 1.2.weight',\n",
       "              tensor([[ 0.0739, -0.3316, -0.1040, -0.2186, -0.3114,  0.0398,  0.1172, -0.1375],\n",
       "                      [-0.2386, -0.1395, -0.0774,  0.0777,  0.0514,  0.3495, -0.2917, -0.0018],\n",
       "                      [-0.0429, -0.2073,  0.2394,  0.3359,  0.2961,  0.0923,  0.2510,  0.0255],\n",
       "                      [-0.1018, -0.3261, -0.1043,  0.0773, -0.0307, -0.1525, -0.2646, -0.3319]])),\n",
       "             ('0.block 1.2.bias',\n",
       "              tensor([-0.3224, -0.0476,  0.3025,  0.1669])),\n",
       "             ('0.block 2.0.weight',\n",
       "              tensor([[ 0.2681,  0.0417,  0.4915,  0.2629],\n",
       "                      [ 0.3827, -0.4117,  0.0390,  0.0655],\n",
       "                      [-0.0744,  0.4408,  0.0465,  0.4827],\n",
       "                      [ 0.1392, -0.2247, -0.3464, -0.4903],\n",
       "                      [ 0.3562, -0.2253,  0.2014,  0.1377],\n",
       "                      [ 0.2176, -0.4440,  0.1144,  0.0704],\n",
       "                      [-0.3917,  0.3712,  0.1644, -0.3972],\n",
       "                      [-0.1157,  0.4654, -0.2824, -0.4934]])),\n",
       "             ('0.block 2.0.bias',\n",
       "              tensor([-0.1897,  0.3070,  0.4153,  0.0253,  0.2798, -0.2981, -0.2191,  0.4168])),\n",
       "             ('0.block 2.2.weight',\n",
       "              tensor([[ 0.3342, -0.0098,  0.0332, -0.0359,  0.2728, -0.0282, -0.2369,  0.0448],\n",
       "                      [-0.1947,  0.0989, -0.3292,  0.2345, -0.2348, -0.1754,  0.2349,  0.1874],\n",
       "                      [-0.1261,  0.2758,  0.2937, -0.0961, -0.3372,  0.3040,  0.2634,  0.1525],\n",
       "                      [-0.3333,  0.1629,  0.1542, -0.3176, -0.0588, -0.3396, -0.1563, -0.1252]])),\n",
       "             ('0.block 2.2.bias',\n",
       "              tensor([ 0.1000,  0.2210, -0.1592, -0.0481])),\n",
       "             ('0.block 3.0.weight',\n",
       "              tensor([[-0.3197, -0.2331, -0.4048,  0.4925],\n",
       "                      [-0.0745, -0.1950, -0.0388, -0.3594],\n",
       "                      [-0.1166,  0.2521, -0.1288,  0.3557],\n",
       "                      [ 0.2589,  0.1827, -0.0975, -0.4941],\n",
       "                      [ 0.1701,  0.0944,  0.2379, -0.0205],\n",
       "                      [-0.3376,  0.0979,  0.1760, -0.0953],\n",
       "                      [-0.4253,  0.3533, -0.0248,  0.3768],\n",
       "                      [-0.4321, -0.0346,  0.3937,  0.4795]])),\n",
       "             ('0.block 3.0.bias',\n",
       "              tensor([ 0.2841,  0.0374, -0.2586, -0.3322, -0.1019, -0.4737,  0.4590,  0.0282])),\n",
       "             ('0.block 3.2.weight',\n",
       "              tensor([[-0.0902,  0.2650,  0.2280,  0.1896,  0.2110, -0.1249,  0.2001, -0.2483],\n",
       "                      [ 0.1486,  0.1530,  0.0153, -0.2024,  0.0056, -0.1930, -0.0071, -0.3348],\n",
       "                      [-0.2072,  0.0378,  0.1948, -0.2385,  0.3316,  0.3505, -0.1675, -0.1898],\n",
       "                      [ 0.3266, -0.2631,  0.0851, -0.1236,  0.1150, -0.2143,  0.3259, -0.0441]])),\n",
       "             ('0.block 3.2.bias',\n",
       "              tensor([-0.2970,  0.2148, -0.0702, -0.0049])),\n",
       "             ('1.weight', tensor([[ 0.1723,  0.4955, -0.4151, -0.4257]])),\n",
       "             ('1.bias', tensor([0.4929]))])"
      ]
     },
     "execution_count": 18,
     "metadata": {},
     "output_type": "execute_result"
    }
   ],
   "source": [
    "rgnet.state_dict()"
   ]
  },
  {
   "cell_type": "code",
   "execution_count": 19,
   "metadata": {},
   "outputs": [
    {
     "data": {
      "text/plain": [
       "tensor([[0.5338],\n",
       "        [0.5339]], grad_fn=<AddmmBackward>)"
      ]
     },
     "execution_count": 19,
     "metadata": {},
     "output_type": "execute_result"
    }
   ],
   "source": [
    "rgnet(X)"
   ]
  },
  {
   "cell_type": "code",
   "execution_count": 20,
   "metadata": {},
   "outputs": [
    {
     "name": "stdout",
     "output_type": "stream",
     "text": [
      "Sequential(\n",
      "  (0): Sequential(\n",
      "    (block 0): Sequential(\n",
      "      (0): Linear(in_features=4, out_features=8, bias=True)\n",
      "      (1): ReLU()\n",
      "      (2): Linear(in_features=8, out_features=4, bias=True)\n",
      "      (3): ReLU()\n",
      "    )\n",
      "    (block 1): Sequential(\n",
      "      (0): Linear(in_features=4, out_features=8, bias=True)\n",
      "      (1): ReLU()\n",
      "      (2): Linear(in_features=8, out_features=4, bias=True)\n",
      "      (3): ReLU()\n",
      "    )\n",
      "    (block 2): Sequential(\n",
      "      (0): Linear(in_features=4, out_features=8, bias=True)\n",
      "      (1): ReLU()\n",
      "      (2): Linear(in_features=8, out_features=4, bias=True)\n",
      "      (3): ReLU()\n",
      "    )\n",
      "    (block 3): Sequential(\n",
      "      (0): Linear(in_features=4, out_features=8, bias=True)\n",
      "      (1): ReLU()\n",
      "      (2): Linear(in_features=8, out_features=4, bias=True)\n",
      "      (3): ReLU()\n",
      "    )\n",
      "  )\n",
      "  (1): Linear(in_features=4, out_features=1, bias=True)\n",
      ")\n"
     ]
    }
   ],
   "source": [
    "print(rgnet)"
   ]
  },
  {
   "cell_type": "code",
   "execution_count": 21,
   "metadata": {},
   "outputs": [
    {
     "data": {
      "text/plain": [
       "tensor([-0.4760, -0.3020,  0.2361, -0.2255, -0.4179,  0.3804,  0.1959,  0.3445])"
      ]
     },
     "execution_count": 21,
     "metadata": {},
     "output_type": "execute_result"
    }
   ],
   "source": [
    "rgnet[0][1][0].bias.data"
   ]
  },
  {
   "cell_type": "code",
   "execution_count": 23,
   "metadata": {},
   "outputs": [
    {
     "data": {
      "text/plain": [
       "(tensor([-0.0141,  0.0214, -0.0059, -0.0226]), tensor(0.))"
      ]
     },
     "execution_count": 23,
     "metadata": {},
     "output_type": "execute_result"
    }
   ],
   "source": [
    "def init_normal(m):\n",
    "    if type(m) == nn.Linear:\n",
    "        nn.init.normal_(m.weight, mean=0, std=0.01)\n",
    "        nn.init.zeros_(m.bias)\n",
    "\n",
    "net.apply(init_normal)\n",
    "net[0].weight.data[0], net[0].bias.data[0]"
   ]
  },
  {
   "cell_type": "code",
   "execution_count": 25,
   "metadata": {},
   "outputs": [
    {
     "data": {
      "text/plain": [
       "(tensor([1., 1., 1., 1.]), tensor(0.))"
      ]
     },
     "execution_count": 25,
     "metadata": {},
     "output_type": "execute_result"
    }
   ],
   "source": [
    "def init_constant(m):\n",
    "    if type(m) == nn.Linear:\n",
    "        nn.init.constant_(m.weight, 1)\n",
    "        nn.init.zeros_(m.bias)\n",
    "    \n",
    "net.apply(init_constant)\n",
    "net[0].weight.data[0], net[0].bias.data[0]"
   ]
  },
  {
   "cell_type": "code",
   "execution_count": 27,
   "metadata": {},
   "outputs": [
    {
     "name": "stdout",
     "output_type": "stream",
     "text": [
      "tensor([[ 0.2224,  0.3784,  0.3046, -0.6209],\n",
      "        [ 0.2200, -0.2506,  0.0429, -0.4970],\n",
      "        [ 0.6614, -0.4702, -0.5930, -0.2566],\n",
      "        [ 0.6299,  0.2765, -0.6093,  0.4132],\n",
      "        [ 0.2841,  0.5701,  0.6561, -0.1526],\n",
      "        [ 0.2083, -0.6029,  0.3729, -0.2087],\n",
      "        [ 0.4830, -0.6506, -0.2148, -0.1209],\n",
      "        [-0.6796, -0.1479,  0.1410, -0.6508]])\n",
      "tensor([[42., 42., 42., 42., 42., 42., 42., 42.]])\n"
     ]
    }
   ],
   "source": [
    "def xavier(m):\n",
    "    if type(m) == nn.Linear:\n",
    "        torch.nn.init.xavier_uniform_(m.weight)\n",
    "\n",
    "def init_42(m):\n",
    "    if type(m) == nn.Linear:\n",
    "        torch.nn.init.constant_(m.weight, 42)\n",
    "\n",
    "net[0].apply(xavier)\n",
    "net[2].apply(init_42)\n",
    "print(net[0].weight.data)\n",
    "print(net[2].weight.data)"
   ]
  },
  {
   "cell_type": "code",
   "execution_count": 30,
   "metadata": {},
   "outputs": [
    {
     "name": "stdout",
     "output_type": "stream",
     "text": [
      "init weight torch.Size([8, 4])\n",
      "init weight torch.Size([1, 8])\n"
     ]
    },
    {
     "data": {
      "text/plain": [
       "Parameter containing:\n",
       "tensor([[ 0.0000,  0.0000,  8.6284, -0.0000],\n",
       "        [-7.3751, -0.0000, -0.0000, -0.0000],\n",
       "        [ 5.0226,  0.0000,  0.0000,  0.0000],\n",
       "        [ 7.7219,  6.2083,  0.0000,  8.5271],\n",
       "        [-9.7977,  0.0000,  6.9495, -8.1519],\n",
       "        [ 0.0000,  5.1169,  0.0000,  0.0000],\n",
       "        [ 0.0000,  0.0000, -0.0000, -0.0000],\n",
       "        [-0.0000, -0.0000,  0.0000, -8.2361]], requires_grad=True)"
      ]
     },
     "execution_count": 30,
     "metadata": {},
     "output_type": "execute_result"
    }
   ],
   "source": [
    "def my_init(m):\n",
    "    if type(m) == nn.Linear:\n",
    "        print(\"init\", *[(name, param.shape) for name, param in m.named_parameters()][0])\n",
    "        nn.init.uniform_(m.weight, -10, 10)\n",
    "        m.weight.data *= m.weight.data.abs() >= 5\n",
    "\n",
    "net.apply(my_init)\n",
    "net[0].weight"
   ]
  },
  {
   "cell_type": "code",
   "execution_count": 33,
   "metadata": {},
   "outputs": [
    {
     "data": {
      "text/plain": [
       "tensor([[42.0000,  3.0000, 11.6284,  3.0000],\n",
       "        [-4.3751,  3.0000,  3.0000,  3.0000],\n",
       "        [ 8.0226,  3.0000,  3.0000,  3.0000],\n",
       "        [10.7219,  9.2083,  3.0000, 11.5271],\n",
       "        [-6.7977,  3.0000,  9.9495, -5.1519],\n",
       "        [ 3.0000,  8.1169,  3.0000,  3.0000],\n",
       "        [ 3.0000,  3.0000,  3.0000,  3.0000],\n",
       "        [ 3.0000,  3.0000,  3.0000, -5.2361]])"
      ]
     },
     "execution_count": 33,
     "metadata": {},
     "output_type": "execute_result"
    }
   ],
   "source": [
    "net[0].weight.data[:] += 1\n",
    "net[0].weight.data[0, 0] = 42\n",
    "net[0].weight.data"
   ]
  },
  {
   "cell_type": "code",
   "execution_count": 34,
   "metadata": {},
   "outputs": [
    {
     "data": {
      "text/plain": [
       "tensor([[0.0768],\n",
       "        [0.0363]], grad_fn=<AddmmBackward>)"
      ]
     },
     "execution_count": 34,
     "metadata": {},
     "output_type": "execute_result"
    }
   ],
   "source": [
    "shared = nn.Linear(8, 8)\n",
    "net = nn.Sequential(nn.Linear(4, 8), nn.ReLU(), shared, nn.ReLU(), shared, nn.ReLU(), nn.Linear(8, 1))\n",
    "net(X)"
   ]
  },
  {
   "cell_type": "code",
   "execution_count": 35,
   "metadata": {},
   "outputs": [
    {
     "name": "stdout",
     "output_type": "stream",
     "text": [
      "tensor([True, True, True, True, True, True, True, True])\n"
     ]
    }
   ],
   "source": [
    "print(net[2].weight.data[0] == net[4].weight.data[0])"
   ]
  },
  {
   "cell_type": "code",
   "execution_count": 37,
   "metadata": {},
   "outputs": [
    {
     "name": "stdout",
     "output_type": "stream",
     "text": [
      "tensor([True, True, True, True, True, True, True, True])\n"
     ]
    }
   ],
   "source": [
    "net[2].weight.data[0, 0] = 100\n",
    "print(net[2].weight.data[0] == net[4].weight.data[0])"
   ]
  },
  {
   "cell_type": "code",
   "execution_count": null,
   "metadata": {},
   "outputs": [],
   "source": []
  }
 ],
 "metadata": {
  "kernelspec": {
   "display_name": "Python 3",
   "language": "python",
   "name": "python3"
  },
  "language_info": {
   "codemirror_mode": {
    "name": "ipython",
    "version": 3
   },
   "file_extension": ".py",
   "mimetype": "text/x-python",
   "name": "python",
   "nbconvert_exporter": "python",
   "pygments_lexer": "ipython3",
   "version": "3.8.5"
  }
 },
 "nbformat": 4,
 "nbformat_minor": 4
}
