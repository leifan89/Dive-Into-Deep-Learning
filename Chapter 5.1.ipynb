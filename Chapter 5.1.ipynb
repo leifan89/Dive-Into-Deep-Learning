{
 "cells": [
  {
   "cell_type": "code",
   "execution_count": 1,
   "metadata": {},
   "outputs": [],
   "source": [
    "import torch\n",
    "from torch import nn\n",
    "from torch.nn import functional as F"
   ]
  },
  {
   "cell_type": "code",
   "execution_count": 7,
   "metadata": {},
   "outputs": [
    {
     "name": "stdout",
     "output_type": "stream",
     "text": [
      "tensor([[0.5132, 0.6932, 0.7111, 0.3557, 0.1657, 0.1735, 0.8753, 0.4282, 0.1257,\n",
      "         0.1748, 0.6017, 0.2492, 0.5752, 0.2416, 0.6447, 0.0706, 0.2384, 0.9750,\n",
      "         0.2418, 0.8943],\n",
      "        [0.4446, 0.1785, 0.6322, 0.6493, 0.0826, 0.5309, 0.2089, 0.8012, 0.6679,\n",
      "         0.2291, 0.6403, 0.6514, 0.9909, 0.8030, 0.6633, 0.0669, 0.0657, 0.2133,\n",
      "         0.2757, 0.0710]])\n"
     ]
    },
    {
     "data": {
      "text/plain": [
       "tensor([[-0.2317,  0.0562,  0.1273,  0.1162,  0.0912,  0.0611, -0.0127, -0.0210,\n",
       "         -0.2803, -0.0707],\n",
       "        [-0.1722, -0.0123,  0.0658,  0.0303,  0.0232, -0.0550, -0.0129, -0.1396,\n",
       "         -0.1181, -0.0894]], grad_fn=<AddmmBackward>)"
      ]
     },
     "execution_count": 7,
     "metadata": {},
     "output_type": "execute_result"
    }
   ],
   "source": [
    "net = nn.Sequential(nn.Linear(20, 256), nn.ReLU(), nn.Linear(256, 10))\n",
    "\n",
    "X = torch.rand(2, 20)\n",
    "print(X)\n",
    "net(X)"
   ]
  },
  {
   "cell_type": "code",
   "execution_count": 8,
   "metadata": {},
   "outputs": [
    {
     "data": {
      "text/plain": [
       "Parameter containing:\n",
       "tensor([[-0.1368,  0.1192,  0.1843,  ...,  0.0494,  0.0179, -0.0090],\n",
       "        [-0.1003,  0.0246, -0.0276,  ...,  0.2115, -0.1758, -0.1411],\n",
       "        [ 0.1360, -0.1925,  0.1439,  ...,  0.0310, -0.0286, -0.1877],\n",
       "        ...,\n",
       "        [ 0.1598,  0.0505,  0.1028,  ..., -0.1554, -0.1681, -0.1419],\n",
       "        [ 0.1122,  0.0039,  0.1382,  ...,  0.0099, -0.1774,  0.1059],\n",
       "        [-0.1478,  0.1396, -0.1456,  ..., -0.0331,  0.0556, -0.1629]],\n",
       "       requires_grad=True)"
      ]
     },
     "execution_count": 8,
     "metadata": {},
     "output_type": "execute_result"
    }
   ],
   "source": [
    "n = nn.Linear(20, 256)\n",
    "n.weight"
   ]
  },
  {
   "cell_type": "code",
   "execution_count": 3,
   "metadata": {},
   "outputs": [],
   "source": [
    "class MLP(nn.Module):\n",
    "    def __init__(self):\n",
    "        super().__init__()\n",
    "        self.hidden = nn.Linear(20, 256)\n",
    "        self.out = nn.Linear(256, 10)\n",
    "        \n",
    "    def forward(self, X):\n",
    "        return self.out(F.relu(self.hidden(X)))"
   ]
  },
  {
   "cell_type": "code",
   "execution_count": 4,
   "metadata": {},
   "outputs": [
    {
     "data": {
      "text/plain": [
       "tensor([[-1.1964e-03, -1.4190e-02, -1.6924e-02, -2.0765e-01,  8.2195e-05,\n",
       "         -2.6813e-01, -7.8418e-02,  1.1378e-01, -1.8950e-01,  8.2533e-02],\n",
       "        [-6.5965e-02,  3.3313e-02, -5.6047e-02, -2.0751e-01,  5.1632e-02,\n",
       "         -2.9583e-01, -5.7584e-02,  8.9808e-02, -1.9287e-01,  3.0272e-01]],\n",
       "       grad_fn=<AddmmBackward>)"
      ]
     },
     "execution_count": 4,
     "metadata": {},
     "output_type": "execute_result"
    }
   ],
   "source": [
    "net = MLP()\n",
    "net(X)"
   ]
  },
  {
   "cell_type": "code",
   "execution_count": 5,
   "metadata": {},
   "outputs": [],
   "source": [
    "class MySequential(nn.Module):\n",
    "    def __init__(self, *args):\n",
    "        super().__init__()\n",
    "        for block in args:\n",
    "            self._modules[block] = block\n",
    "    \n",
    "    def forward(self, X):\n",
    "        for block in self._modules.values():\n",
    "            X = block(X)\n",
    "        return X"
   ]
  },
  {
   "cell_type": "code",
   "execution_count": 6,
   "metadata": {},
   "outputs": [
    {
     "data": {
      "text/plain": [
       "tensor([[ 0.0739,  0.0536,  0.1846,  0.1277,  0.1828, -0.1207, -0.0620,  0.0156,\n",
       "         -0.0364,  0.0773],\n",
       "        [-0.0285,  0.0085,  0.1338,  0.1334,  0.2319, -0.1149, -0.1675,  0.0134,\n",
       "         -0.0556,  0.0846]], grad_fn=<AddmmBackward>)"
      ]
     },
     "execution_count": 6,
     "metadata": {},
     "output_type": "execute_result"
    }
   ],
   "source": [
    "net = MySequential(nn.Linear(20, 256), nn.ReLU(), nn.Linear(256, 10))\n",
    "net(X)"
   ]
  },
  {
   "cell_type": "code",
   "execution_count": 9,
   "metadata": {},
   "outputs": [],
   "source": [
    "class FixedHiddenMLP(nn.Module):\n",
    "    def __init__(self):\n",
    "        super().__init__()\n",
    "        self.rand_weight = torch.rand((20, 20), requires_grad=True)\n",
    "        self.linear = nn.Linear(20, 20)\n",
    "        \n",
    "    def forward(self, X):\n",
    "        X = self.linear(X)\n",
    "        X = F.relu(torch.mm(X, self.rand_weight) + 1)\n",
    "        X = self.linear(X)\n",
    "        while X.abs().sum() > 1:\n",
    "            X /= 2\n",
    "        return X.sum()"
   ]
  },
  {
   "cell_type": "code",
   "execution_count": 10,
   "metadata": {},
   "outputs": [
    {
     "data": {
      "text/plain": [
       "tensor(0.0692, grad_fn=<SumBackward0>)"
      ]
     },
     "execution_count": 10,
     "metadata": {},
     "output_type": "execute_result"
    }
   ],
   "source": [
    "net = FixedHiddenMLP()\n",
    "net(X)"
   ]
  },
  {
   "cell_type": "code",
   "execution_count": 11,
   "metadata": {},
   "outputs": [],
   "source": [
    "class NestMLP(nn.Module):\n",
    "    def __init__(self):\n",
    "        super().__init__()\n",
    "        self.net = nn.Sequential(nn.Linear(20, 64), nn.ReLU(), nn.Linear(64, 32), nn.ReLU())\n",
    "        self.linear = nn.Linear(32, 16)\n",
    "    \n",
    "    def forward(self, X):\n",
    "        return self.linear(self.net(X))"
   ]
  },
  {
   "cell_type": "code",
   "execution_count": 12,
   "metadata": {},
   "outputs": [
    {
     "data": {
      "text/plain": [
       "tensor(0.2655, grad_fn=<SumBackward0>)"
      ]
     },
     "execution_count": 12,
     "metadata": {},
     "output_type": "execute_result"
    }
   ],
   "source": [
    "chimera = nn.Sequential(NestMLP(), nn.Linear(16, 20), FixedHiddenMLP())\n",
    "chimera(X)"
   ]
  },
  {
   "cell_type": "code",
   "execution_count": 20,
   "metadata": {},
   "outputs": [
    {
     "name": "stdout",
     "output_type": "stream",
     "text": [
      "MySequentialList()\n"
     ]
    },
    {
     "data": {
      "text/plain": [
       "tensor([[ 0.0046, -0.0441, -0.0126, -0.0029, -0.1204,  0.0009, -0.2274, -0.1539,\n",
       "          0.0723, -0.1390],\n",
       "        [-0.1043,  0.0567, -0.0502, -0.1006, -0.1364, -0.0640, -0.0518,  0.0574,\n",
       "          0.0085, -0.2234]], grad_fn=<AddmmBackward>)"
      ]
     },
     "execution_count": 20,
     "metadata": {},
     "output_type": "execute_result"
    }
   ],
   "source": [
    "class MySequentialList(nn.Module):\n",
    "    def __init__(self, *args):\n",
    "        super().__init__()\n",
    "        self.module_list = []\n",
    "        for block in args:\n",
    "            self.module_list.append(block)\n",
    "    \n",
    "    def forward(self, X):\n",
    "        for block in self.module_list:\n",
    "            X = block(X)\n",
    "        return X\n",
    "    \n",
    "net = MySequentialList(nn.Linear(20, 256), nn.ReLU(), nn.Linear(256, 10))\n",
    "for module in net.modules():\n",
    "    print(module)\n",
    "net(X)"
   ]
  },
  {
   "cell_type": "code",
   "execution_count": null,
   "metadata": {},
   "outputs": [],
   "source": []
  }
 ],
 "metadata": {
  "kernelspec": {
   "display_name": "Python 3",
   "language": "python",
   "name": "python3"
  },
  "language_info": {
   "codemirror_mode": {
    "name": "ipython",
    "version": 3
   },
   "file_extension": ".py",
   "mimetype": "text/x-python",
   "name": "python",
   "nbconvert_exporter": "python",
   "pygments_lexer": "ipython3",
   "version": "3.8.5"
  }
 },
 "nbformat": 4,
 "nbformat_minor": 4
}
