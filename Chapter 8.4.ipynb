{
 "cells": [
  {
   "cell_type": "code",
   "execution_count": 1,
   "metadata": {},
   "outputs": [],
   "source": [
    "from d2l import torch as d2l\n",
    "import torch"
   ]
  },
  {
   "cell_type": "code",
   "execution_count": 3,
   "metadata": {},
   "outputs": [
    {
     "data": {
      "text/plain": [
       "(tensor([[-0.2318],\n",
       "         [-0.4596],\n",
       "         [ 0.2042]]),\n",
       " tensor([[-0.7421, -1.0241,  0.3572, -1.1814]]))"
      ]
     },
     "execution_count": 3,
     "metadata": {},
     "output_type": "execute_result"
    }
   ],
   "source": [
    "X, W_xh = torch.normal(0, 1, (3, 1)), torch.normal(0, 1, (1, 4))\n",
    "X, W_xh"
   ]
  },
  {
   "cell_type": "code",
   "execution_count": 4,
   "metadata": {},
   "outputs": [
    {
     "data": {
      "text/plain": [
       "(tensor([[-1.5714, -0.8469, -0.3142,  0.4859],\n",
       "         [-1.5696,  0.8965, -2.1252, -0.2532],\n",
       "         [-1.7203, -0.3894, -1.3373,  0.7449]]),\n",
       " tensor([[ 1.7710, -1.5979,  0.4523, -1.8532],\n",
       "         [ 0.0667, -0.6508,  0.2120, -0.0112],\n",
       "         [-2.8134,  0.7826, -0.4296,  0.5409],\n",
       "         [ 0.0800,  1.3568, -0.8312, -0.5379]]))"
      ]
     },
     "execution_count": 4,
     "metadata": {},
     "output_type": "execute_result"
    }
   ],
   "source": [
    "H, W_hh = torch.normal(0, 1, (3, 4)), torch.normal(0, 1, (4, 4))\n",
    "H, W_hh"
   ]
  },
  {
   "cell_type": "code",
   "execution_count": 6,
   "metadata": {},
   "outputs": [
    {
     "data": {
      "text/plain": [
       "tensor([[ 0.1720,  0.2374, -0.0828,  0.2738],\n",
       "        [ 0.3411,  0.4706, -0.1641,  0.5429],\n",
       "        [-0.1516, -0.2091,  0.0729, -0.2413]])"
      ]
     },
     "execution_count": 6,
     "metadata": {},
     "output_type": "execute_result"
    }
   ],
   "source": [
    "torch.matmul(X, W_xh)"
   ]
  },
  {
   "cell_type": "code",
   "execution_count": 7,
   "metadata": {},
   "outputs": [
    {
     "data": {
      "text/plain": [
       "tensor([[-1.9166,  3.4755, -1.1592,  2.4904],\n",
       "        [ 3.2387, -0.0820,  0.6035,  1.8854],\n",
       "        [ 0.7493,  2.9665, -0.9053,  2.0685]])"
      ]
     },
     "execution_count": 7,
     "metadata": {},
     "output_type": "execute_result"
    }
   ],
   "source": [
    "torch.matmul(H, W_hh)"
   ]
  },
  {
   "cell_type": "code",
   "execution_count": 8,
   "metadata": {},
   "outputs": [
    {
     "data": {
      "text/plain": [
       "tensor([[-1.7446,  3.7129, -1.2420,  2.7643],\n",
       "        [ 3.5798,  0.3887,  0.4393,  2.4283],\n",
       "        [ 0.5977,  2.7574, -0.8324,  1.8272]])"
      ]
     },
     "execution_count": 8,
     "metadata": {},
     "output_type": "execute_result"
    }
   ],
   "source": [
    "torch.matmul(X, W_xh) + torch.matmul(H, W_hh)"
   ]
  },
  {
   "cell_type": "code",
   "execution_count": 9,
   "metadata": {},
   "outputs": [
    {
     "data": {
      "text/plain": [
       "tensor([[-0.2318, -1.5714, -0.8469, -0.3142,  0.4859],\n",
       "        [-0.4596, -1.5696,  0.8965, -2.1252, -0.2532],\n",
       "        [ 0.2042, -1.7203, -0.3894, -1.3373,  0.7449]])"
      ]
     },
     "execution_count": 9,
     "metadata": {},
     "output_type": "execute_result"
    }
   ],
   "source": [
    "torch.cat((X, H), 1)"
   ]
  },
  {
   "cell_type": "code",
   "execution_count": 11,
   "metadata": {},
   "outputs": [
    {
     "data": {
      "text/plain": [
       "tensor([[-0.7421, -1.0241,  0.3572, -1.1814],\n",
       "        [ 1.7710, -1.5979,  0.4523, -1.8532],\n",
       "        [ 0.0667, -0.6508,  0.2120, -0.0112],\n",
       "        [-2.8134,  0.7826, -0.4296,  0.5409],\n",
       "        [ 0.0800,  1.3568, -0.8312, -0.5379]])"
      ]
     },
     "execution_count": 11,
     "metadata": {},
     "output_type": "execute_result"
    }
   ],
   "source": [
    "torch.cat((W_xh, W_hh), 0)"
   ]
  },
  {
   "cell_type": "code",
   "execution_count": 12,
   "metadata": {},
   "outputs": [
    {
     "data": {
      "text/plain": [
       "tensor([[-1.7446,  3.7129, -1.2420,  2.7643],\n",
       "        [ 3.5798,  0.3887,  0.4393,  2.4283],\n",
       "        [ 0.5977,  2.7574, -0.8324,  1.8272]])"
      ]
     },
     "execution_count": 12,
     "metadata": {},
     "output_type": "execute_result"
    }
   ],
   "source": [
    "torch.matmul(torch.cat((X, H), 1), torch.cat((W_xh, W_hh), 0))"
   ]
  },
  {
   "cell_type": "code",
   "execution_count": null,
   "metadata": {},
   "outputs": [],
   "source": []
  }
 ],
 "metadata": {
  "kernelspec": {
   "display_name": "Python 3",
   "language": "python",
   "name": "python3"
  },
  "language_info": {
   "codemirror_mode": {
    "name": "ipython",
    "version": 3
   },
   "file_extension": ".py",
   "mimetype": "text/x-python",
   "name": "python",
   "nbconvert_exporter": "python",
   "pygments_lexer": "ipython3",
   "version": "3.8.5"
  }
 },
 "nbformat": 4,
 "nbformat_minor": 4
}
